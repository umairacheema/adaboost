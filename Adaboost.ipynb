{
 "cells": [
  {
   "cell_type": "markdown",
   "metadata": {},
   "source": [
    "# Adaboost Demonstration"
   ]
  },
  {
   "cell_type": "markdown",
   "metadata": {},
   "source": [
    "### Adaboost Algorithm"
   ]
  },
  {
   "cell_type": "markdown",
   "metadata": {},
   "source": [
    "Adaboost (i.e Adaptive Boosting) is an ensemble method that combines many weak classifiers to build strong classifiers with better accuracy. The basic idea is as under:\n",
    "\n",
    "1. We select a base classifier (i.e weak classifier) such as Decision Tree and assign each of the 'N' data points a weight **w =1/n**\n",
    "2. We classify the data using the weak classifier.\n",
    "3. The data points that are misclassified by the weak classifier get a higher weight.\n",
    "4. We update all the weights\n",
    "5. The next iteration of classification puts more effort in classifying the data points that were misclassified in the previous iteration.\n",
    "6. We iterate a pre-configured number of times and prepare the final model."
   ]
  },
  {
   "cell_type": "markdown",
   "metadata": {},
   "source": [
    "### Example Scenario"
   ]
  },
  {
   "cell_type": "markdown",
   "metadata": {},
   "source": [
    "_Imagine that we need to conduct **Sentiment Analysis** on Twitter data where the objective is to ascertain overall sentiment of a given Tweet as **\"Positive\"** or **\"Negative\"**. How can AdaBoost help?_\n",
    "\n",
    "_Please note that this demonstration is a simplified version of Sentiment Analysis problem and is only to be used as a demonstration of AdaBoost algorithm._"
   ]
  },
  {
   "cell_type": "markdown",
   "metadata": {},
   "source": [
    "Let us use a DecisionTree classifier as a class of weak classifiers and combine them using AdaBoost. Mathematically our problem can then be written as combining **M** decision trees and at each iteration finding the predicted sentiment (i.e Positive or Negative) as sign of the  weighted sum of individual decision trees.\n",
    "\n",
    "Assume that we have a set of **M** DecisionTree classifiers Dt.\n",
    "\n",
    "$$ Dt_n \\in \\{Dt_1,Dt_2,...,Dt_m\\}$$\n",
    "\n",
    "then final decision for a given Tweet will be the sign of a function that combines sentiment class predicted by individual Decision Tree classifiers: \n",
    "\n",
    " If the sentiment class predicted by a single decision tree x is given by a function.\n",
    " \n",
    " $$y= Dt_x(Tweet)$$ \n",
    " where $$y \\in \\{+1, -1\\}$$ \n",
    "\n",
    "then the final output would be :\n",
    "\n",
    "   $$Sentiment = sign(\\alpha_1Dt_1(Tweet)+\\alpha_2Dt_2(Tweet)+...+\\alpha_MDt_M(Tweet))$$\n",
    "   \n",
    " \n",
    " The alpha is a weight computed on every iteration as a function of weights assigned to data points. Higher weight is assigned to the tweets that are misclassified so that the next DecisionTree classifier focuses on this data point more.\n"
   ]
  },
  {
   "cell_type": "code",
   "execution_count": 1,
   "metadata": {
    "collapsed": true
   },
   "outputs": [],
   "source": [
    "import numpy as np\n",
    "import pandas as pd\n",
    "import matplotlib.pyplot as plt\n",
    "%matplotlib inline\n",
    "import seaborn as sns\n",
    "from sklearn.cross_validation import train_test_split\n",
    "from sklearn.feature_extraction.text import CountVectorizer\n",
    "from sklearn.tree import DecisionTreeClassifier\n",
    "from sklearn.ensemble import AdaBoostClassifier\n",
    "from sklearn.metrics import roc_auc_score\n",
    "from sklearn.metrics import accuracy_score\n"
   ]
  },
  {
   "cell_type": "code",
   "execution_count": 2,
   "metadata": {
    "collapsed": true
   },
   "outputs": [],
   "source": [
    "def sentiment_test(tweet, model, vectorizer):\n",
    "    \"\"\"\n",
    "    Description: Determines the overall sentiment of a Tweet as positive or negative\n",
    "    Arguments:\n",
    "        tweet: Tweet text\n",
    "        model: Learned Model\n",
    "        vectorizer: Vectorizer used in learning\n",
    "    \"\"\"\n",
    "    transformed = vectorizer.transform(tweet)\n",
    "    prediction = model.predict(transformed)\n",
    "    if(prediction == -1):\n",
    "        print('The overall sentiment of the tweet is : Negative')\n",
    "        \n",
    "    else:\n",
    "        print('The overall sentiment of the tweet is : Positive')"
   ]
  },
  {
   "cell_type": "markdown",
   "metadata": {},
   "source": [
    "##### Load Twitter Data"
   ]
  },
  {
   "cell_type": "code",
   "execution_count": 3,
   "metadata": {
    "collapsed": false
   },
   "outputs": [
    {
     "data": {
      "text/html": [
       "<div>\n",
       "<table border=\"1\" class=\"dataframe\">\n",
       "  <thead>\n",
       "    <tr style=\"text-align: right;\">\n",
       "      <th></th>\n",
       "      <th>ID</th>\n",
       "      <th>SentimentClass</th>\n",
       "      <th>SentimentText</th>\n",
       "    </tr>\n",
       "  </thead>\n",
       "  <tbody>\n",
       "    <tr>\n",
       "      <th>0</th>\n",
       "      <td>0</td>\n",
       "      <td>-1</td>\n",
       "      <td>is so sad for my APL frie...</td>\n",
       "    </tr>\n",
       "    <tr>\n",
       "      <th>1</th>\n",
       "      <td>1</td>\n",
       "      <td>-1</td>\n",
       "      <td>I missed the New Moon trail...</td>\n",
       "    </tr>\n",
       "    <tr>\n",
       "      <th>2</th>\n",
       "      <td>2</td>\n",
       "      <td>1</td>\n",
       "      <td>omg its already 7:30 :O</td>\n",
       "    </tr>\n",
       "    <tr>\n",
       "      <th>3</th>\n",
       "      <td>3</td>\n",
       "      <td>-1</td>\n",
       "      <td>.. Omgaga. Im sooo  im gunna CRy. I'...</td>\n",
       "    </tr>\n",
       "    <tr>\n",
       "      <th>4</th>\n",
       "      <td>4</td>\n",
       "      <td>-1</td>\n",
       "      <td>i think mi bf is cheating on me!!!   ...</td>\n",
       "    </tr>\n",
       "  </tbody>\n",
       "</table>\n",
       "</div>"
      ],
      "text/plain": [
       "   ID  SentimentClass                                      SentimentText\n",
       "0   0              -1                       is so sad for my APL frie...\n",
       "1   1              -1                     I missed the New Moon trail...\n",
       "2   2               1                            omg its already 7:30 :O\n",
       "3   3              -1            .. Omgaga. Im sooo  im gunna CRy. I'...\n",
       "4   4              -1           i think mi bf is cheating on me!!!   ..."
      ]
     },
     "execution_count": 3,
     "metadata": {},
     "output_type": "execute_result"
    }
   ],
   "source": [
    "#Read Sentiment140 data from the CSV file\n",
    "df = pd.read_csv(\"Tweets.csv\")\n",
    "df.head()"
   ]
  },
  {
   "cell_type": "code",
   "execution_count": 4,
   "metadata": {
    "collapsed": false
   },
   "outputs": [
    {
     "data": {
      "text/plain": [
       "(-1.123812461198632,\n",
       " 1.0093846825556887,\n",
       " -1.0048358694206503,\n",
       " 1.0201710458629023)"
      ]
     },
     "execution_count": 4,
     "metadata": {},
     "output_type": "execute_result"
    },
    {
     "data": {
      "image/png": "[encoded data removed]",
      "text/plain": [
       "<matplotlib.figure.Figure at 0x1063a42e8>"
      ]
     },
     "metadata": {},
     "output_type": "display_data"
    }
   ],
   "source": [
    "#Check the distribution of class labels\n",
    "counts = df.SentimentClass.value_counts()\n",
    "sizes = [(counts.loc[-1]/len(df.SentimentClass))*100,(counts.loc[1]/len(df.SentimentClass))*100]\n",
    "labels = ['Negative','Positive']\n",
    "colors = ['gold','lightskyblue']\n",
    "plt.pie(sizes, explode=(0.1,0), labels=labels, colors=colors,\n",
    "         autopct='%1.1f%%',shadow=False, startangle=90)\n",
    "plt.axis('equal')\n"
   ]
  },
  {
   "cell_type": "markdown",
   "metadata": {},
   "source": [
    "#####  Feature Extraction"
   ]
  },
  {
   "cell_type": "code",
   "execution_count": 5,
   "metadata": {
    "collapsed": false
   },
   "outputs": [],
   "source": [
    "#Feature Extraction\n",
    "y=df.SentimentClass\n",
    "X=df.SentimentText\n",
    "#Split data in training and testing\n",
    "Xtrain, Xtest, ytrain, ytest = train_test_split(X.values,y.values,test_size=0.3)\n",
    "#Vectorization\n",
    "vectorizer = CountVectorizer()\n",
    "X_train_vec = vectorizer.fit_transform(Xtrain)\n",
    "#Using the same vectorizer we vectorize the test data\n",
    "X_test_vec = vectorizer.transform(Xtest)"
   ]
  },
  {
   "cell_type": "code",
   "execution_count": 6,
   "metadata": {
    "collapsed": false
   },
   "outputs": [
    {
     "name": "stdout",
     "output_type": "stream",
     "text": [
      "56339\n"
     ]
    }
   ],
   "source": [
    "#Check if the Vectorization is alright\n",
    "print(vectorizer.vocabulary_.get(u'is'))"
   ]
  },
  {
   "cell_type": "markdown",
   "metadata": {},
   "source": [
    "##### Decision Tree Classifier"
   ]
  },
  {
   "cell_type": "code",
   "execution_count": 7,
   "metadata": {
    "collapsed": false
   },
   "outputs": [
    {
     "name": "stdout",
     "output_type": "stream",
     "text": [
      "Area Under the ROC Curve using Weak Classifier is:   0.561\n"
     ]
    }
   ],
   "source": [
    "# Learn a model using Decision Tree\n",
    "# Please note that we are not using GridSearchCV or any other cross validation\n",
    "# intentionally to keep DecisionTree a weak classifier\n",
    "\n",
    "learner = DecisionTreeClassifier(max_depth=5)\n",
    "model = learner.fit(X_train_vec,ytrain)\n",
    "#Model Evaluation using Test Data\n",
    "y_predicted = model.predict(X_test_vec)\n",
    "\n",
    "#Check Accuracy\n",
    "score = roc_auc_score(ytest, y_predicted)\n",
    "print(\"Area Under the ROC Curve using Weak Classifier is:   %0.3f\" % score)\n"
   ]
  },
  {
   "cell_type": "markdown",
   "metadata": {},
   "source": [
    "##### Test Decision Tree Classifier "
   ]
  },
  {
   "cell_type": "code",
   "execution_count": 8,
   "metadata": {
    "collapsed": false
   },
   "outputs": [
    {
     "name": "stdout",
     "output_type": "stream",
     "text": [
      "The overall sentiment of the tweet is : Positive\n"
     ]
    }
   ],
   "source": [
    "sentiment_test([\"@This is awesome\"],model,vectorizer)"
   ]
  },
  {
   "cell_type": "markdown",
   "metadata": {},
   "source": [
    "##### AdaBoost Ensemble"
   ]
  },
  {
   "cell_type": "code",
   "execution_count": 9,
   "metadata": {
    "collapsed": false
   },
   "outputs": [
    {
     "name": "stdout",
     "output_type": "stream",
     "text": [
      "Area Under the ROC Curve using AdaBoost is:   0.734\n"
     ]
    }
   ],
   "source": [
    "#Create AdaBoost Classifier\n",
    "adaboost_learner = AdaBoostClassifier(DecisionTreeClassifier(max_depth=5),n_estimators=200)\n",
    "adaboost_model = adaboost_learner.fit(X_train_vec,ytrain)\n",
    "#Model Evaluation using Test Data\n",
    "y_predicted = adaboost_model.predict(X_test_vec)\n",
    "#Check Accuracy\n",
    "score = roc_auc_score(ytest, y_predicted)\n",
    "print(\"Area Under the ROC Curve using AdaBoost is:   %0.3f\" % score)"
   ]
  },
  {
   "cell_type": "code",
   "execution_count": 10,
   "metadata": {
    "collapsed": false
   },
   "outputs": [
    {
     "data": {
      "text/plain": [
       "<matplotlib.text.Text at 0x11a1bf908>"
      ]
     },
     "execution_count": 10,
     "metadata": {},
     "output_type": "execute_result"
    },
    {
     "data": {
      "image/png": "[encoded data removed]",
      "text/plain": [
       "<matplotlib.figure.Figure at 0x11a1e2b70>"
      ]
     },
     "metadata": {},
     "output_type": "display_data"
    }
   ],
   "source": [
    "#Plot Errors against number of iterations\n",
    "test_errors=[]\n",
    "for test_prediction in adaboost_model.staged_predict(X_test_vec):\n",
    "    test_errors.append(1. - accuracy_score(test_prediction,ytest))\n",
    "plt.plot(range(1,len(adaboost_model)+1),test_errors)\n",
    "plt.ylabel('Error')\n",
    "plt.xlabel('Number of Decision Trees')"
   ]
  },
  {
   "cell_type": "markdown",
   "metadata": {},
   "source": [
    "##### Test Adaboost"
   ]
  },
  {
   "cell_type": "code",
   "execution_count": 12,
   "metadata": {
    "collapsed": false
   },
   "outputs": [
    {
     "name": "stdout",
     "output_type": "stream",
     "text": [
      "The overall sentiment of the tweet is : Negative\n"
     ]
    },
    {
     "data": {
      "image/png": "[encoded data removed]",
      "text/plain": [
       "<matplotlib.figure.Figure at 0x11c391c88>"
      ]
     },
     "metadata": {},
     "output_type": "display_data"
    }
   ],
   "source": [
    "Tweet = \"@This is bad\"\n",
    "sentiment_test([Tweet],adaboost_model,vectorizer)\n",
    "\n",
    "#Plot iteration against the class decision\n",
    "staged_predictions_generator = adaboost_model.staged_predict(vectorizer.transform([Tweet]))\n",
    "class_labels=[]\n",
    "for stage_prediction in staged_predictions_generator:\n",
    "    class_labels.append(stage_prediction)\n",
    "\n",
    "plt.plot(range(1,len(adaboost_model)+1),class_labels)\n",
    "#plt.title(\"Prediction for \",Tweet)\n",
    "plt.xlabel(\"Iteration\")\n",
    "plt.ylabel(\"Sentiment Class\")\n",
    "plt.xlim(0,10)\n",
    "plt.show()"
   ]
  },
  {
   "cell_type": "markdown",
   "metadata": {},
   "source": [
    "##### Conclusion\n",
    "Adaptive Boosting is an effective ensemble method that can significantly improve the classification performance."
   ]
  },
  {
   "cell_type": "markdown",
   "metadata": {
    "collapsed": true
   },
   "source": [
    "**References**\n",
    "\n",
    "The Tweets data used in demonstration is derived from the Sentiment140 dataset available at:\n",
    "\n",
    "http://cs.stanford.edu/people/alecmgo/trainingandtestdata.zip\n",
    "\n"
   ]
  }
 ],
 "metadata": {
  "anaconda-cloud": {},
  "kernelspec": {
   "display_name": "Python [Root]",
   "language": "python",
   "name": "Python [Root]"
  },
  "language_info": {
   "codemirror_mode": {
    "name": "ipython",
    "version": 3
   },
   "file_extension": ".py",
   "mimetype": "text/x-python",
   "name": "python",
   "nbconvert_exporter": "python",
   "pygments_lexer": "ipython3",
   "version": "3.5.2"
  }
 },
 "nbformat": 4,
 "nbformat_minor": 0
}
